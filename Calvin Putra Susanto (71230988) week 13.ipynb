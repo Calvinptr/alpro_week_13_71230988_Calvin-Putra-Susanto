{
 "cells": [
  {
   "cell_type": "code",
   "execution_count": 1,
   "id": "19dc1889",
   "metadata": {},
   "outputs": [
    {
     "name": "stdout",
     "output_type": "stream",
     "text": [
      "Masukkan jumlah kategori: 2\n",
      "Masukkan nama kategori: Game\n",
      "Masukkan 5 nama aplikasi di kategori: Game\n",
      "Nama aplikasi: Mobile Legend\n",
      "Nama aplikasi: Free Fire\n",
      "Nama aplikasi: Friv\n",
      "Nama aplikasi: Dota\n",
      "Nama aplikasi: PUBG\n",
      "Masukkan nama kategori: Aplikasi\n",
      "Masukkan 5 nama aplikasi di kategori: Aplikasi\n",
      "Nama aplikasi: Mobile Legend\n",
      "Nama aplikasi: Friv\n",
      "Nama aplikasi: Instagram\n",
      "Nama aplikasi: Pinterest\n",
      "Nama aplikasi: VS Code\n",
      "{'Game': ['Mobile Legend', 'Free Fire', 'Friv', 'Dota', 'PUBG'], 'Aplikasi': ['Mobile Legend', 'Friv', 'Instagram', 'Pinterest', 'VS Code']}\n",
      "Aplikasi yang muncul di kedua kategori\n",
      ">> Mobile Legend\n",
      "Aplikasi yang muncul di kedua kategori\n",
      ">> Friv\n"
     ]
    }
   ],
   "source": [
    "# latihan 12.1\n",
    "JumKat = int(input('Masukkan jumlah kategori: '))\n",
    "simSem = {}\n",
    "for i in range(JumKat):\n",
    "    NamKat = input('Masukkan nama kategori: ')\n",
    "    print(f\"Masukkan 5 nama aplikasi di kategori: {NamKat}\")\n",
    "    apk = []\n",
    "    for j in range(5):\n",
    "        aplikasi = input('Nama aplikasi: ')\n",
    "        apk.append(aplikasi)\n",
    "    simSem[NamKat] = apk   \n",
    "print(simSem)\n",
    "hasil = {}\n",
    "for key, value in simSem.items():\n",
    "    for aplikasi in value:\n",
    "        if aplikasi in hasil:\n",
    "            hasil[aplikasi].add(key)\n",
    "        else:\n",
    "            hasil[aplikasi] = {key}\n",
    "if JumKat < 2:\n",
    "    for aplikasi, key in hasil.items():\n",
    "        if len(key) == 1:\n",
    "            print(f\"Aplikasi yang muncul di satu kategori\\n>> {aplikasi}\")\n",
    "if JumKat >= 2:\n",
    "    for aplikasi, key in hasil.items():\n",
    "        if len(key) == 2:\n",
    "            print(f\"Aplikasi yang muncul di kedua kategori\\n>> {aplikasi}\")"
   ]
  },
  {
   "cell_type": "code",
   "execution_count": 3,
   "id": "2327ead4",
   "metadata": {},
   "outputs": [
    {
     "name": "stdout",
     "output_type": "stream",
     "text": [
      "Data awal: ('Calvin', 'Putra', 71230988, 40.5)\n",
      "Data setelah jadi list: ['Calvin', 'Putra', 71230988, 40.5]\n",
      "\n",
      "Data list awal: ['Calvin', 'Putra', 71230988, 40.5]\n",
      "Data setelah jadi set: {40.5, 'Calvin', 'Putra', 71230988}\n",
      "\n",
      "\n",
      "Data awal: ('Calvin', 'Putra', 71230988, 40.5)\n",
      "Data setelah jadi set: {40.5, 'Calvin', 'Putra', 71230988}\n",
      "\n",
      "Data set awal: {40.5, 'Calvin', 'Putra', 71230988}\n",
      "Data setelah jadi tuple: (40.5, 'Calvin', 'Putra', 71230988)\n"
     ]
    }
   ],
   "source": [
    "# latihan 12.2\n",
    "data = \"Calvin\", \"Putra\", 71230988, 40.5\n",
    "print(f\"Data awal: {data}\")\n",
    "data1 = list(data)\n",
    "print(f\"Data setelah jadi list: {data1}\")\n",
    "print()\n",
    "print(f\"Data list awal: {data1}\")\n",
    "data2 = set(data1)\n",
    "print(f\"Data setelah jadi set: {data2}\")\n",
    "print()\n",
    "print()\n",
    "print(f\"Data awal: {data}\")\n",
    "data3 = set(data)\n",
    "print(f\"Data setelah jadi set: {data3}\")\n",
    "print()\n",
    "print(f\"Data set awal: {data3}\")\n",
    "data4 = tuple(data3)\n",
    "print(f\"Data setelah jadi tuple: {data4}\")"
   ]
  },
  {
   "cell_type": "code",
   "execution_count": null,
   "id": "90c68992",
   "metadata": {},
   "outputs": [],
   "source": [
    "# latihan 12.3\n",
    "File1 = input(\"Masukkan nama File 1: \")\n",
    "File2 = input(\"Masukkan nama File 2: \")\n",
    "var1 = []\n",
    "var2 = []\n",
    "try:\n",
    "    openFile1 = open(File1, 'r')\n",
    "    openFile2 = open(File2, 'r')\n",
    "except:\n",
    "    print(\"File tidak ada atau salah memasukkan nama File\")\n",
    "baca1 = openFile1.readlines()\n",
    "baca2 = openFile2.readlines()\n",
    "for i in range(len(baca1)):\n",
    "    splt = baca1[i].lower().strip().split(\"\\n\")\n",
    "    var1.extend(splt)\n",
    "for j in range(len(baca2)):\n",
    "    splt2 = baca2[j].lower().strip().split(\"\\n\")\n",
    "    var2.extend(splt2)\n",
    "tup1 = set(var1)\n",
    "tup2 = set(var2)\n",
    "last = tup1 & tup2\n",
    "print(last)"
   ]
  }
 ],
 "metadata": {
  "kernelspec": {
   "display_name": "Python 3 (ipykernel)",
   "language": "python",
   "name": "python3"
  },
  "language_info": {
   "codemirror_mode": {
    "name": "ipython",
    "version": 3
   },
   "file_extension": ".py",
   "mimetype": "text/x-python",
   "name": "python",
   "nbconvert_exporter": "python",
   "pygments_lexer": "ipython3",
   "version": "3.11.5"
  }
 },
 "nbformat": 4,
 "nbformat_minor": 5
}
